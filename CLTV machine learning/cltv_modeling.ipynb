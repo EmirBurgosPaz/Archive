{
 "cells": [
  {
   "cell_type": "code",
   "execution_count": null,
   "metadata": {},
   "outputs": [],
   "source": []
  }
 ],
 "metadata": {
  "kernelspec": {
   "display_name": "Python 3.9.2 64-bit",
   "language": "python",
   "name": "python3"
  },
  "language_info": {
   "name": "python",
   "version": "3.9.2"
  },
  "orig_nbformat": 4,
  "vscode": {
   "interpreter": {
    "hash": "2beda44a27c516c8eee55656dca0fc88112abb5446c8fdf1dd67544a1b35f1ad"
   }
  }
 },
 "nbformat": 4,
 "nbformat_minor": 2
}
